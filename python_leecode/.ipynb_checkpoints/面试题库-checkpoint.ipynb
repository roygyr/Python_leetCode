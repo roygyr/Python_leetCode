{
 "cells": [
  {
   "cell_type": "markdown",
   "metadata": {},
   "source": [
    "# 开始之前"
   ]
  },
  {
   "cell_type": "markdown",
   "metadata": {},
   "source": [
    "## 只出现一次的数"
   ]
  },
  {
   "cell_type": "code",
   "execution_count": 2,
   "metadata": {},
   "outputs": [],
   "source": [
    "def singleNumber(self, nums):\n",
    "    result = 0\n",
    "    for num in nums:\n",
    "        result = result ^ num     \n",
    "    return result"
   ]
  },
  {
   "cell_type": "markdown",
   "metadata": {},
   "source": [
    "## 求众数"
   ]
  },
  {
   "cell_type": "code",
   "execution_count": 5,
   "metadata": {},
   "outputs": [],
   "source": [
    "def majorityElement(self, nums):\n",
    "        num,count = nums[0],0\n",
    "        for x in nums:\n",
    "            if count == 0:\n",
    "                num,count = x,1\n",
    "            elif x == num:\n",
    "                count += 1\n",
    "            else:\n",
    "                count -= 1\n",
    "        return num\n"
   ]
  },
  {
   "cell_type": "markdown",
   "metadata": {},
   "source": [
    "## 搜索二维矩阵"
   ]
  },
  {
   "cell_type": "code",
   "execution_count": 6,
   "metadata": {},
   "outputs": [],
   "source": [
    "class Solution:\n",
    "    def searchMatrix(self, matrix, target):\n",
    "        \"\"\"\n",
    "        :type matrix: List[List[int]]\n",
    "        :type target: int\n",
    "        :rtype: bool\n",
    "        \"\"\"\n",
    "        m = len(matrix)\n",
    "        if m == 0:\n",
    "            return False\n",
    "        n = len(matrix[0])\n",
    "        if n == 0:\n",
    "            return False\n",
    "\n",
    "        i = m - 1\n",
    "        j = 0\n",
    "        while i >= 0 and j <= n-1:\n",
    "            if matrix[i][j] == target:\n",
    "                print(matrix[i][j])\n",
    "                return True\n",
    "            elif matrix[i][j] < target:\n",
    "                j = j + 1\n",
    "            else:\n",
    "                i = i - 1\n",
    "        return False"
   ]
  },
  {
   "cell_type": "markdown",
   "metadata": {},
   "source": [
    "## 合并有序数组"
   ]
  },
  {
   "cell_type": "code",
   "execution_count": 8,
   "metadata": {},
   "outputs": [],
   "source": [
    "class Solution:\n",
    "    def merge(self, nums1, m, nums2, n):\n",
    "        \"\"\"\n",
    "        Do not return anything, modify nums1 in-place instead.\n",
    "        \"\"\"\n",
    "        nums1[m:m+n] = nums2\n",
    "        return nums1.sort()"
   ]
  },
  {
   "cell_type": "markdown",
   "metadata": {},
   "source": [
    "## 验证回文串"
   ]
  },
  {
   "cell_type": "code",
   "execution_count": 28,
   "metadata": {},
   "outputs": [],
   "source": [
    "class Solution:\n",
    "    def isPalindrome(self, s):\n",
    "        \"\"\"\n",
    "        :type s: str\n",
    "        :rtype: bool\n",
    "        \"\"\"\n",
    "        s = ''.join(filter(str.isalnum,s)).lower()\n",
    "        return s==s[::-1]"
   ]
  },
  {
   "cell_type": "markdown",
   "metadata": {},
   "source": [
    "## 单词划分 动态规划"
   ]
  },
  {
   "cell_type": "code",
   "execution_count": 32,
   "metadata": {},
   "outputs": [],
   "source": [
    "class Solution(object):\n",
    "    def wordBreak(self, s, wordDict):\n",
    "        \"\"\"\n",
    "        :type s: str\n",
    "        :type wordDict: List[str]\n",
    "        :rtype: bool\n",
    "        \"\"\"\n",
    "        n = len(s)\n",
    "        dp = [False] * (n + 1)\n",
    "        dp[0] = True\n",
    "        for i in range(n):\n",
    "            for j in range(i, -1, -1):\n",
    "                if dp[j] and s[j:i + 1] in wordDict:\n",
    "                    dp[i + 1] = True\n",
    "                    break\n",
    "        return dp[n]\n"
   ]
  },
  {
   "cell_type": "markdown",
   "metadata": {},
   "source": [
    "## 单词划分2 动态规划与深度优先"
   ]
  },
  {
   "cell_type": "code",
   "execution_count": 2,
   "metadata": {},
   "outputs": [],
   "source": [
    "class Solution(object):\n",
    "    def wordBreak(self, s, wordDict):\n",
    "        \"\"\"\n",
    "        :type s: str\n",
    "        :type wordDict: List[str]\n",
    "        :rtype: List[str]\n",
    "        \"\"\"\n",
    "        Solution.res = []\n",
    "        self.dfs(s, wordDict, '')\n",
    "        return Solution.res\n",
    "\n",
    "    def dfs(self, s, wordDict, stringlist):\n",
    "        if self.check(s, wordDict):\n",
    "            # 如果s已经切完，则加入最后结果集\n",
    "            if len(s) == 0: \n",
    "                Solution.res.append(stringlist[1:])\n",
    "            for i in range(1, len(s)+1):\n",
    "                if s[:i] in wordDict:\n",
    "                    self.dfs(s[i:], wordDict, stringlist+' '+s[:i])\n",
    "\n",
    "    def check(self, s, wordDict):\n",
    "            dp = [False for i in range(len(s)+1)]\n",
    "            dp[0] = True\n",
    "            # 这里循环是len(s)，使得该check函数变成了只要有单词在里面就验证成功，和wordbreak有所不同！\n",
    "            for i in range(len(s)):\n",
    "                for j in range(i, -1, -1):\n",
    "                    if dp[j] and s[j:i + 1] in wordDict:\n",
    "                        dp[i + 1] = True\n",
    "                        break\n",
    "            return dp[len(s)]\n"
   ]
  },
  {
   "cell_type": "markdown",
   "metadata": {},
   "source": [
    "### 有效异位词"
   ]
  },
  {
   "cell_type": "code",
   "execution_count": 3,
   "metadata": {},
   "outputs": [],
   "source": [
    "class Solution:\n",
    "    def isAnagram(self, s: str, t: str) -> bool:\n",
    "        d1 = {}\n",
    "        d2 = {}\n",
    "        for item in s:\n",
    "            d1[item] = d1.get(item,0) + 1\n",
    "        for item in t:\n",
    "            d2[item] = d2.get(item,0) + 1\n",
    "        return d1 == d2"
   ]
  },
  {
   "cell_type": "markdown",
   "metadata": {},
   "source": [
    "### 第一个唯一字符"
   ]
  },
  {
   "cell_type": "code",
   "execution_count": 4,
   "metadata": {},
   "outputs": [],
   "source": [
    "class Solution:\n",
    "    def firstUniqChar(self, s: str) -> int:\n",
    "        d = {}\n",
    "        for item in s:\n",
    "            d[item] = d.get(item,0) + 1\n",
    "        \n",
    "        for i in range(len(s)):\n",
    "            if d[s[i]] == 1:\n",
    "                return i  \n",
    "                break\n",
    "        return -1"
   ]
  },
  {
   "cell_type": "markdown",
   "metadata": {},
   "source": [
    "### 反转字符串"
   ]
  },
  {
   "cell_type": "code",
   "execution_count": 9,
   "metadata": {},
   "outputs": [],
   "source": [
    "    def reverseString(s):\n",
    "        \"\"\"\n",
    "        Do not return anything, modify s in-place instead.\n",
    "        \"\"\"\n",
    "        d = []\n",
    "        r = []\n",
    "        for v in s:\n",
    "            d.append(v)\n",
    "            \n",
    "        while len(d)>0:\n",
    "            r.append(d.pop()) #模拟出栈\n",
    "\n",
    "        return r"
   ]
  },
  {
   "cell_type": "markdown",
   "metadata": {},
   "source": [
    "### 乘积最大子序列"
   ]
  },
  {
   "cell_type": "code",
   "execution_count": 27,
   "metadata": {},
   "outputs": [],
   "source": [
    "class Solution:\n",
    "    \"\"\"\n",
    "    @param nums: A list of integers\n",
    "    @return: A integer indicate the sum of max subarray\n",
    "    \"\"\"\n",
    "    def maxProduct(self, nums):\n",
    "        # write your code here\n",
    "        if(len(nums)==1):return nums[0]\n",
    "        posmax,negmax=0,0  #正最大和负最大\n",
    "        result=nums[0]\n",
    "        for i in range(len(nums)):\n",
    "            tempPosmax=posmax\n",
    "            tempNegmax=negmax\n",
    "            posmax=max(nums[i],max(nums[i]*tempPosmax,nums[i]*tempNegmax))\n",
    "            negmax=min(nums[i],min(nums[i]*tempPosmax,nums[i]*tempNegmax))\n",
    "            result=max(result,posmax)\n",
    "        return result\n"
   ]
  },
  {
   "cell_type": "markdown",
   "metadata": {},
   "source": [
    "### 旋转数组"
   ]
  },
  {
   "cell_type": "code",
   "execution_count": 15,
   "metadata": {},
   "outputs": [],
   "source": [
    "    def rotate(nums,k):\n",
    "        \"\"\"\n",
    "        Do not return anything, modify nums in-place instead.\n",
    "        \"\"\"\n",
    "        for i in range(k):\n",
    "            nums.insert(0,nums.pop())\n",
    "        \n",
    "        return nums"
   ]
  },
  {
   "cell_type": "markdown",
   "metadata": {},
   "source": [
    "### 存在重复值"
   ]
  },
  {
   "cell_type": "code",
   "execution_count": 23,
   "metadata": {},
   "outputs": [],
   "source": [
    "class Solution:\n",
    "    def containsDuplicate( nums):\n",
    "        d = {}\n",
    "        for v in nums:\n",
    "            if v in d:\n",
    "                return True\n",
    "            else:\n",
    "                d[v] = 1\n",
    "                \n",
    "        return False "
   ]
  },
  {
   "cell_type": "markdown",
   "metadata": {},
   "source": [
    "### 移动0"
   ]
  },
  {
   "cell_type": "code",
   "execution_count": 25,
   "metadata": {},
   "outputs": [],
   "source": [
    "def moveZeroes(self, nums):\n",
    "        \"\"\"\n",
    "        :type nums: List[int]\n",
    "        :rtype: void Do not return anything, modify nums in-place instead.\n",
    "        \"\"\"\n",
    "        initLen = len(nums)\n",
    "        i = 0    #累加计数\n",
    "        j = 0    #0的个数\n",
    "        while i + j < initLen:\n",
    "            if nums[i] == 0:\n",
    "                # del nums[i]\n",
    "                nums[i:i+1] = []  #和被注释掉的语句效果一样\n",
    "                j += 1\n",
    "            else:\n",
    "                i += 1\n",
    "        nums += j*[0]\n"
   ]
  },
  {
   "cell_type": "markdown",
   "metadata": {},
   "source": [
    "### 搜索二维矩阵"
   ]
  },
  {
   "cell_type": "code",
   "execution_count": 28,
   "metadata": {},
   "outputs": [],
   "source": [
    "class Solution:\n",
    "    def searchMatrix(self, matrix, target):\n",
    "        \"\"\"\n",
    "        :type matrix: List[List[int]]\n",
    "        :type target: int\n",
    "        :rtype: bool\n",
    "        \"\"\"\n",
    "        m = len(matrix)\n",
    "        if m == 0:\n",
    "            return False\n",
    "        n = len(matrix[0])\n",
    "        if n == 0:\n",
    "            return False\n",
    "\n",
    "        i = m - 1\n",
    "        j = 0\n",
    "        while i >= 0 and j <= n-1:\n",
    "            if matrix[i][j] == target:\n",
    "                print(matrix[i][j])\n",
    "                return True\n",
    "            elif matrix[i][j] < target:\n",
    "                j = j + 1\n",
    "            else:\n",
    "                i = i - 1\n",
    "        return False"
   ]
  },
  {
   "cell_type": "markdown",
   "metadata": {},
   "source": [
    "### 除自己以外的乘积"
   ]
  },
  {
   "cell_type": "code",
   "execution_count": 36,
   "metadata": {},
   "outputs": [],
   "source": [
    "    def productExceptSelf( nums):\n",
    "        \"\"\"\n",
    "        :type nums: List[int]\n",
    "        :rtype: List[int]\n",
    "        \"\"\"\n",
    "        result=[1]*len(nums)\n",
    "        tmp=1\n",
    "        for i in range(1,len(nums)): \n",
    "            result[i]=result[i-1]*nums[i-1]\n",
    "            print(\"result %d = result %d * nums%d = %d * %d\"%(i,i-1,i-1,result[i-1],nums[i-1]))\n",
    "            print(result)\n",
    "        for j in range(len(nums)-2,-1,-1):\n",
    "            tmp=tmp*nums[j+1]\n",
    "            result[j]=result[j]*tmp\n",
    "        return result"
   ]
  },
  {
   "cell_type": "code",
   "execution_count": null,
   "metadata": {},
   "outputs": [],
   "source": []
  }
 ],
 "metadata": {
  "kernelspec": {
   "display_name": "Python 3",
   "language": "python",
   "name": "python3"
  },
  "language_info": {
   "codemirror_mode": {
    "name": "ipython",
    "version": 3
   },
   "file_extension": ".py",
   "mimetype": "text/x-python",
   "name": "python",
   "nbconvert_exporter": "python",
   "pygments_lexer": "ipython3",
   "version": "3.6.1"
  }
 },
 "nbformat": 4,
 "nbformat_minor": 2
}
