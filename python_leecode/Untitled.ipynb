{
 "cells": [
  {
   "cell_type": "markdown",
   "metadata": {},
   "source": [
    "两数之和"
   ]
  },
  {
   "cell_type": "code",
   "execution_count": 1,
   "metadata": {},
   "outputs": [],
   "source": [
    "class Solution(object):\n",
    "    def twoSum(self, nums, target):\n",
    "        \"\"\"\n",
    "        :type nums: List[int]\n",
    "        :type target: int\n",
    "        :rtype: List[int]\n",
    "        \"\"\"\n",
    "        dicts = {}\n",
    "        for k, v in enumerate(nums):\n",
    "            if target - v in dicts:\n",
    "                return [dicts.get(target-v), k]\n",
    "            dicts[v] = k"
   ]
  },
  {
   "cell_type": "markdown",
   "metadata": {},
   "source": [
    "两数相加——链表"
   ]
  },
  {
   "cell_type": "code",
   "execution_count": 2,
   "metadata": {},
   "outputs": [],
   "source": [
    "class Solution(object):\n",
    "    def addTwoNumbers(self, l1, l2):\n",
    "        \"\"\"\n",
    "        :type l1: ListNode\n",
    "        :type l2: ListNode\n",
    "        :rtype: ListNode\n",
    "        \"\"\"\n",
    "        a = b = 0\n",
    "        carry = 0\n",
    "        while l1:\n",
    "            a += l1.val * 10 ** carry\n",
    "            carry += 1\n",
    "            l1 = l1.next\n",
    "        carry = 0\n",
    "        while l2:\n",
    "            b += l2.val * 10 ** carry\n",
    "            carry += 1\n",
    "            l2 = l2.next\n",
    "        ret = a + b\n",
    "        h = m = ListNode(0)\n",
    "        if not ret:\n",
    "            return h\n",
    "        while ret:\n",
    "            m.next = ListNode(ret % 10)\n",
    "            ret /= 10\n",
    "            m = m.next\n",
    "        return h.next"
   ]
  },
  {
   "cell_type": "markdown",
   "metadata": {},
   "source": [
    "无重复字符的最长子串"
   ]
  },
  {
   "cell_type": "code",
   "execution_count": 4,
   "metadata": {},
   "outputs": [],
   "source": [
    "class Solution(object):\n",
    "    def lengthOfLongestSubstring(self, s):\n",
    "        \"\"\"\n",
    "        :type s: str\n",
    "        :rtype: int\n",
    "        \"\"\"\n",
    "        hashes = {}\n",
    "        left, right, length = 0, 0, len(s)\n",
    "        max_len = 0\n",
    "        while right < length:\n",
    "            if s[right] in hashes and hashes[s[right]] >= left:\n",
    "                left = hashes[s[right]]\n",
    "            hashes[s[right]] = right + 1\n",
    "            max_len = max(max_len, right - left + 1)\n",
    "            right += 1\n",
    "        return max_len"
   ]
  },
  {
   "cell_type": "markdown",
   "metadata": {},
   "source": [
    "Z字字符串"
   ]
  },
  {
   "cell_type": "code",
   "execution_count": 5,
   "metadata": {},
   "outputs": [],
   "source": [
    "class Solution(object):\n",
    "    def convert(self, s, numRows):\n",
    "        \"\"\"\n",
    "        :type s: str\n",
    "        :type numRows: int\n",
    "        :rtype: str\n",
    "        \"\"\"\n",
    "        rows = [[] for _ in range(numRows)]\n",
    "        move, counts = 0, 0\n",
    "        \n",
    "        for c in s:\n",
    "            if move == 0:\n",
    "                rows[counts].append(c)\n",
    "                counts += 1\n",
    "                if counts == numRows:\n",
    "                    move = 1\n",
    "                    counts -= 2\n",
    "            else:\n",
    "                rows[counts].append(c)\n",
    "                counts -= 1\n",
    "                if counts < 0:\n",
    "                    move = 0\n",
    "                    counts += 2\n",
    "        return ''.join([''.join(r) for r in rows])"
   ]
  },
  {
   "cell_type": "markdown",
   "metadata": {},
   "source": [
    "整数反转"
   ]
  },
  {
   "cell_type": "code",
   "execution_count": 6,
   "metadata": {},
   "outputs": [],
   "source": [
    "class Solution(object):\n",
    "    def reverse(self, x):\n",
    "        \"\"\"\n",
    "        :type x: int\n",
    "        :rtype: int\n",
    "        \"\"\"\n",
    "        ret = 0\n",
    "        t = abs(x)\n",
    "        while t:\n",
    "            ret = 10 * ret + t % 10\n",
    "            t /= 10\n",
    "        if ret > 2 ** 31 or -ret < -2 ** 31:\n",
    "            return 0\n",
    "        return ret if x >= 0 else -ret"
   ]
  },
  {
   "cell_type": "markdown",
   "metadata": {},
   "source": [
    "回文数"
   ]
  },
  {
   "cell_type": "code",
   "execution_count": 7,
   "metadata": {},
   "outputs": [],
   "source": [
    "class Solution(object):\n",
    "    def isPalindrome(self, x):\n",
    "        \"\"\"\n",
    "        :type x: int\n",
    "        :rtype: bool\n",
    "        \"\"\"\n",
    "        if x < 0:\n",
    "            return False\n",
    "        r = 0\n",
    "        t = x\n",
    "        while t:\n",
    "            r = r * 10 + t % 10\n",
    "            t /= 10\n",
    "        return r == x"
   ]
  },
  {
   "cell_type": "markdown",
   "metadata": {},
   "source": [
    "最长盛水容器"
   ]
  },
  {
   "cell_type": "code",
   "execution_count": 8,
   "metadata": {},
   "outputs": [],
   "source": [
    "class Solution(object):\n",
    "    def maxArea(self, height):\n",
    "        \"\"\"\n",
    "        :type height: List[int]\n",
    "        :rtype: int\n",
    "        \"\"\"\n",
    "        left, right = 0, len(height) - 1\n",
    "        water = (right - left) * (height[left] if height[left] <= height[right] else height[right])\n",
    "        while left < right:\n",
    "            if height[left] <= height[right]:\n",
    "                left += 1\n",
    "            else:\n",
    "                right -= 1\n",
    "            cur = (right - left) * (height[left] if height[left] <= height[right] else height[right])\n",
    "            water = cur if cur > water else water\n",
    "        return water"
   ]
  },
  {
   "cell_type": "markdown",
   "metadata": {},
   "source": [
    "有效括号"
   ]
  },
  {
   "cell_type": "code",
   "execution_count": 11,
   "metadata": {},
   "outputs": [],
   "source": [
    "def matched(S):\n",
    "    p = []\n",
    "    paren_map = {\")\":\"(\",\"]\":\"[\",\"}\":\"{\"}\n",
    "    for c in s:\n",
    "        if c not in paren_map:\n",
    "            p.append(c)\n",
    "        elif not stack or c != paren_map[c]:\n",
    "            return False\n",
    "        return not stack"
   ]
  },
  {
   "cell_type": "markdown",
   "metadata": {},
   "source": [
    "删除排序数组重复项"
   ]
  },
  {
   "cell_type": "code",
   "execution_count": 13,
   "metadata": {},
   "outputs": [],
   "source": [
    "class Solution(object):\n",
    "    def removeDuplicates(self, nums):\n",
    "        \"\"\"\n",
    "        :type nums: List[int]\n",
    "        :rtype: int\n",
    "        \"\"\"\n",
    "        left = ret = 0\n",
    "        cur = None\n",
    "        while left < len(nums):\n",
    "            if nums[left] != cur:\n",
    "                nums[ret] = nums[left]\n",
    "                ret += 1\n",
    "                cur = nums[left]\n",
    "            left += 1\n",
    "        return ret"
   ]
  },
  {
   "cell_type": "markdown",
   "metadata": {},
   "source": [
    "移除元素"
   ]
  },
  {
   "cell_type": "code",
   "execution_count": 14,
   "metadata": {},
   "outputs": [],
   "source": [
    "class Solution(object):\n",
    "    def removeElement(self, nums, val):\n",
    "        \"\"\"\n",
    "        :type nums: List[int]\n",
    "        :type val: int\n",
    "        :rtype: int\n",
    "        \"\"\"\n",
    "        left, right = 0, len(nums) - 1\n",
    "        while left <= right:\n",
    "            if nums[left] == val:\n",
    "                nums[left], nums[right] = nums[right], nums[left]\n",
    "                right -= 1\n",
    "            else:\n",
    "                left += 1\n",
    "        return left"
   ]
  },
  {
   "cell_type": "markdown",
   "metadata": {},
   "source": [
    "查找字符串"
   ]
  },
  {
   "cell_type": "code",
   "execution_count": 16,
   "metadata": {},
   "outputs": [],
   "source": [
    "class Solution(object):\n",
    "    def strStr(self, haystack, needle):\n",
    "        \"\"\"\n",
    "        :type haystack: str\n",
    "        :type needle: str\n",
    "        :rtype: int\n",
    "        \"\"\"\n",
    "        return haystack.find(needle)"
   ]
  },
  {
   "cell_type": "code",
   "execution_count": 14,
   "metadata": {},
   "outputs": [],
   "source": [
    "def largestRectangleArea(heights):\n",
    "        \n",
    "        \"\"\"\n",
    "        :type heights: List[int]\n",
    "        :rtype: int\n",
    "        \"\"\"\n",
    "        \n",
    "        i = 0\n",
    "        max_value = 0\n",
    "        stack = []\n",
    "        heights.append(0)\n",
    "        print(heights)\n",
    "        while i < len(heights):\n",
    "            print(i)\n",
    "            print(stack)\n",
    "            \n",
    "            if len(stack) == 0 or heights[stack[-1]] <= heights[i]:\n",
    "                try:\n",
    "                    print(heights[stack[-1]],heights[i])\n",
    "                except:print(\"stack=0\")\n",
    "                    \n",
    "                stack.append(i)\n",
    "                i += 1\n",
    "            else:\n",
    "                now_idx = stack.pop()\n",
    "                print(now_idx)\n",
    "                \n",
    "                if len(stack) == 0:\n",
    "                    max_value = max(max_value,i * heights[now_idx])\n",
    "                else:                    \n",
    "                    max_value = max(max_value,(i- stack[-1] -1) * heights[now_idx])\n",
    "                    \n",
    "        return max_value"
   ]
  },
  {
   "cell_type": "code",
   "execution_count": 15,
   "metadata": {},
   "outputs": [
    {
     "name": "stdout",
     "output_type": "stream",
     "text": [
      "[2, 1, 5, 6, 2, 3, 0]\n",
      "0\n",
      "[]\n",
      "stack=0\n",
      "1\n",
      "[0]\n",
      "0\n",
      "1\n",
      "[]\n",
      "stack=0\n",
      "2\n",
      "[1]\n",
      "1 5\n",
      "3\n",
      "[1, 2]\n",
      "5 6\n",
      "4\n",
      "[1, 2, 3]\n",
      "3\n",
      "4\n",
      "[1, 2]\n",
      "2\n",
      "4\n",
      "[1]\n",
      "1 2\n",
      "5\n",
      "[1, 4]\n",
      "2 3\n",
      "6\n",
      "[1, 4, 5]\n",
      "5\n",
      "6\n",
      "[1, 4]\n",
      "4\n",
      "6\n",
      "[1]\n",
      "1\n",
      "6\n",
      "[]\n",
      "stack=0\n"
     ]
    },
    {
     "data": {
      "text/plain": [
       "10"
      ]
     },
     "execution_count": 15,
     "metadata": {},
     "output_type": "execute_result"
    }
   ],
   "source": [
    "largestRectangleArea([2,1,5,6,2,3])"
   ]
  },
  {
   "cell_type": "code",
   "execution_count": null,
   "metadata": {},
   "outputs": [],
   "source": []
  }
 ],
 "metadata": {
  "kernelspec": {
   "display_name": "Python 3",
   "language": "python",
   "name": "python3"
  },
  "language_info": {
   "codemirror_mode": {
    "name": "ipython",
    "version": 3
   },
   "file_extension": ".py",
   "mimetype": "text/x-python",
   "name": "python",
   "nbconvert_exporter": "python",
   "pygments_lexer": "ipython3",
   "version": "3.6.1"
  }
 },
 "nbformat": 4,
 "nbformat_minor": 2
}
