{
 "cells": [
  {
   "cell_type": "markdown",
   "metadata": {},
   "source": [
    "# 递归\n",
    "通过递归，函数在执行过程中对自身进行一次或多次调用，或者数据结构在表示中依赖于同一类型结构的数据。"
   ]
  },
  {
   "cell_type": "markdown",
   "metadata": {},
   "source": [
    "## 实例\n",
    "### The Factorial Function（阶乘函数）"
   ]
  },
  {
   "cell_type": "code",
   "execution_count": 1,
   "metadata": {},
   "outputs": [],
   "source": [
    "def factorial(n):\n",
    "    if n == 0:\n",
    "        return 1\n",
    "    else:\n",
    "        return n*factorial(n-1)"
   ]
  },
  {
   "cell_type": "code",
   "execution_count": 9,
   "metadata": {},
   "outputs": [
    {
     "data": {
      "text/plain": [
       "362880"
      ]
     },
     "execution_count": 9,
     "metadata": {},
     "output_type": "execute_result"
    }
   ],
   "source": [
    "factorial(9)"
   ]
  },
  {
   "cell_type": "markdown",
   "metadata": {},
   "source": [
    "### Binary Search(二分查找)\n",
    "当数据是有序的，二分查找是一种高效的搜索数据的方式，时间复杂的O(logn)"
   ]
  },
  {
   "cell_type": "code",
   "execution_count": 10,
   "metadata": {},
   "outputs": [],
   "source": [
    "def binary_search(data,target,low,high):\n",
    "    if low>high:\n",
    "        return False\n",
    "    else:\n",
    "        mid = (low+high)//2\n",
    "        if target == data[mid]:\n",
    "            return True\n",
    "        elif target <data[mid]:\n",
    "            return binary_search(data,target,low,mid-1)\n",
    "        else:\n",
    "            return binary_search(data,target,mid+1,high)\n",
    "        "
   ]
  },
  {
   "cell_type": "markdown",
   "metadata": {},
   "source": [
    "### 斐波拉西数列——递归算法的误用\n",
    "生成一个斐波拉西数列[1,1,2,3,5,8,13,...]"
   ]
  },
  {
   "cell_type": "code",
   "execution_count": 11,
   "metadata": {},
   "outputs": [],
   "source": [
    "def bad_fibonacci(n):\n",
    "    if n<=1:\n",
    "        return n \n",
    "    else:\n",
    "        return bad_fibonacci(n-2) + bad_fibonacci(n-1)"
   ]
  },
  {
   "cell_type": "markdown",
   "metadata": {},
   "source": [
    "利用递归算法生成斐波拉西数列，存在重复过程，复杂度过高\n",
    "![斐波拉西](/ds_image/badfa.png \"斐波拉西递归过程\")\n",
    "一种更好地算法如下，之后还会介绍动态规划方法"
   ]
  },
  {
   "cell_type": "code",
   "execution_count": 12,
   "metadata": {},
   "outputs": [],
   "source": [
    "def good_fibonacci(n):\n",
    "    if n<=1:\n",
    "        return n,0\n",
    "    else:\n",
    "        a,b = good_fibonacci(n-1)\n",
    "        return (a+b,a)"
   ]
  },
  {
   "cell_type": "markdown",
   "metadata": {},
   "source": [
    "## Linear Recursion (线性递归)\n",
    "每一递归实例对自身的调用至多一次。于是，每一层次上至多只有一个实例，且它们构成一个线性的次序关系"
   ]
  },
  {
   "cell_type": "markdown",
   "metadata": {},
   "source": [
    "### 数组求和"
   ]
  },
  {
   "cell_type": "code",
   "execution_count": 13,
   "metadata": {},
   "outputs": [],
   "source": [
    "def liner_sum(S,n):\n",
    "    if n == 0:\n",
    "        return 0 \n",
    "    else:\n",
    "        return liner_sum(S,n-1) + s[n-1]"
   ]
  },
  {
   "cell_type": "markdown",
   "metadata": {},
   "source": [
    "### 数组倒序"
   ]
  },
  {
   "cell_type": "code",
   "execution_count": 14,
   "metadata": {},
   "outputs": [],
   "source": [
    "def reverse(S,start,stop):\n",
    "    if start <stop - 1:\n",
    "        S[start],S[stop-1] = S[stop-1],S[start]\n",
    "        reverse(S,start+1,stop-1)"
   ]
  },
  {
   "cell_type": "markdown",
   "metadata": {},
   "source": [
    "数组倒序递归过程\n",
    "![数组倒序](/ds_image/reverse.png \"数组倒序递归过程\")"
   ]
  },
  {
   "cell_type": "markdown",
   "metadata": {},
   "source": [
    "### 求n次方"
   ]
  },
  {
   "cell_type": "markdown",
   "metadata": {},
   "source": [
    "方法一时间复杂度为O(n)"
   ]
  },
  {
   "cell_type": "code",
   "execution_count": 17,
   "metadata": {},
   "outputs": [],
   "source": [
    "def power_1(x,n):\n",
    "    if n == 0: \n",
    "        return 1\n",
    "    else:\n",
    "        return x*power_1(x,n-1)"
   ]
  },
  {
   "cell_type": "markdown",
   "metadata": {},
   "source": [
    "方法二 时间复杂度为O(logn)"
   ]
  },
  {
   "cell_type": "code",
   "execution_count": 19,
   "metadata": {},
   "outputs": [],
   "source": [
    "def power_2(x,n):\n",
    "    if n == 0:\n",
    "        return 1\n",
    "    else:\n",
    "        p = power_2(x,n//2)\n",
    "        r = p*p\n",
    "        if n % 2 == 1:\n",
    "            r *=x\n",
    "    return r"
   ]
  },
  {
   "cell_type": "markdown",
   "metadata": {},
   "source": [
    "## 二分递归\n",
    "调用函数本身两次"
   ]
  },
  {
   "cell_type": "markdown",
   "metadata": {},
   "source": [
    "### 数列求和 \n",
    "二分递归 时间复杂度为O(n),但空间复杂度降为O(logn)"
   ]
  },
  {
   "cell_type": "code",
   "execution_count": 20,
   "metadata": {},
   "outputs": [],
   "source": [
    "def binary_sum(S,start,stop):\n",
    "    if start >= stop:\n",
    "        return 0\n",
    "    elif start == stop-1:\n",
    "        return S[start]\n",
    "    else:\n",
    "        mid = (start + stop)//2\n",
    "        return binary_sum(S,start,mid) + binary_sum(S,mid,stop)"
   ]
  },
  {
   "cell_type": "markdown",
   "metadata": {},
   "source": [
    "# 数据结构 \n",
    "## 栈————后入先出"
   ]
  },
  {
   "cell_type": "code",
   "execution_count": 22,
   "metadata": {},
   "outputs": [],
   "source": [
    "class ArrayStack:\n",
    "    \n",
    "    def __init__(self):\n",
    "        self._data = []\n",
    "    \n",
    "    def __len__(self):\n",
    "        return len(self._data)\n",
    "    \n",
    "    def is_empty(self):\n",
    "        return len(self._data) == 0\n",
    "    \n",
    "    def push(self,e):\n",
    "        self._data.append(e)\n",
    "        \n",
    "    def top(self):\n",
    "        if self.is_empty():\n",
    "            raise Empty(\"stack is empty\")\n",
    "        return self._data[-1]\n",
    "    def pop(self):\n",
    "        if self.is_empty():\n",
    "            raise Empty(\"stack is empty\")\n",
    "        return self.pop()\n",
    "     \n",
    "            \n",
    "        \n",
    "    \n",
    "    \n",
    "            "
   ]
  },
  {
   "cell_type": "markdown",
   "metadata": {},
   "source": [
    "### 数组逆序"
   ]
  },
  {
   "cell_type": "code",
   "execution_count": 23,
   "metadata": {},
   "outputs": [],
   "source": [
    "def reverse_stack(S):\n",
    "    d = ArrayStack()\n",
    "    for v in S:\n",
    "        d.push(v)\n",
    "    while not d.is_empty:\n",
    "        print(s.pop())"
   ]
  },
  {
   "cell_type": "markdown",
   "metadata": {},
   "source": [
    "### 匹配括号"
   ]
  },
  {
   "cell_type": "code",
   "execution_count": 25,
   "metadata": {},
   "outputs": [],
   "source": [
    "def matched(S):\n",
    "    p = []\n",
    "    paren_map = {\")\":\"(\",\"]\":\"[\",\"}\":\"{\"}\n",
    "    for c in s:\n",
    "        if c not in paren_map:\n",
    "            p.append(c)\n",
    "        elif not stack or c != paren_map[c]:\n",
    "            return False\n",
    "        return not stack"
   ]
  },
  {
   "cell_type": "markdown",
   "metadata": {},
   "source": [
    "## 队————先入先出"
   ]
  },
  {
   "cell_type": "markdown",
   "metadata": {},
   "source": [
    "## 二叉树\n",
    "### python 实现\n",
    "运用了队的算法 先入先出"
   ]
  },
  {
   "cell_type": "code",
   "execution_count": 11,
   "metadata": {},
   "outputs": [],
   "source": [
    "class Node(object):\n",
    "    def __init__(self,data=None,l_child=None, r_child=None):\n",
    "        self.data = data\n",
    "        self.l_child = l_child\n",
    "        self.r_child = r_child\n",
    "\n",
    "class B_Tree(object):\n",
    "    def __init__(self, node=None):\n",
    "        self.root = node\n",
    "        \n",
    "    def add(self, item=None):\n",
    "        node = Node(item)\n",
    "        #如果是空树，则直接添到根\n",
    "        if not self.root:\n",
    "            self.root = node\n",
    "        else:\n",
    "        #不为空，则按照 左右顺序 添加节点,这样构建出来的是一棵有序二叉树，且是完全二叉树\n",
    "            my_queue = []\n",
    "            my_queue.append(self.root)\n",
    "            while True:\n",
    "                cur_node = my_queue.pop(0)\n",
    "                if not cur_node.l_child:\n",
    "                    cur_node.l_child = node\n",
    "                    return\n",
    "                elif not cur_node.r_child:\n",
    "                    cur_node.r_child = node\n",
    "                    return\n",
    "                else:\n",
    "                    my_queue.append(cur_node.l_child)\n",
    "                    my_queue.append(cur_node.r_child)\n",
    "\n",
    "    def floor_travel(self):\n",
    "        #如果是空树则直接返回一个[]\n",
    "        if not self.root or self.root.data is None:\n",
    "            return []\n",
    "        else:\n",
    "            my_queue = []\n",
    "            #构造个容器来返回遍历的结果\n",
    "            re_queue = []\n",
    "            my_queue.append(self.root)\n",
    "            while my_queue:\n",
    "                cur_node = my_queue.pop(0)\n",
    "                re_queue.append(cur_node)\n",
    "                if cur_node.l_child:\n",
    "                    my_queue.append(cur_node.l_child)\n",
    "                if cur_node.r_child:\n",
    "                    my_queue.append(cur_node.r_child)\n",
    "            return re_queue\n",
    "    \n",
    "    def front_travel(self):\n",
    "        if not self.root or self.root.data is None:\n",
    "            return []\n",
    "        else:\n",
    "            re_queue = []\n",
    "            def loop(root):\n",
    "                if not root:\n",
    "                    return\n",
    "                else:\n",
    "                    #中  左  右\n",
    "                    re_queue.append(root)\n",
    "                    loop(root.l_child)\n",
    "                    loop(root.r_child)\n",
    "            loop(self.root)\n",
    "            return re_queue\n",
    "    \n",
    "    #递归，中序遍历\n",
    "    def middle_travel(self):\n",
    "        if not self.root or self.root.data is None:\n",
    "            return []\n",
    "        else:\n",
    "            re_queue = []\n",
    "            def loop(root):\n",
    "                if not root:\n",
    "                    return\n",
    "                else:\n",
    "                    #左  中  右\n",
    "                    loop(root.l_child)\n",
    "                    re_queue.append(root)\n",
    "                    loop(root.r_child)\n",
    "            loop(self.root)\n",
    "            return re_queue\n",
    "    \n",
    "    #递归，后序遍历\n",
    "    def back_travel(self):\n",
    "        if not self.root or self.root.data is None:\n",
    "            return []\n",
    "        else:\n",
    "            re_queue = []\n",
    "            def loop(root):\n",
    "                if not root:\n",
    "                    return\n",
    "                else:\n",
    "                    #左  右   中\n",
    "                    loop(root.l_child)\n",
    "                    loop(root.r_child)\n",
    "                    re_queue.append(root)\n",
    "            loop(self.root)\n",
    "            return re_queue\n"
   ]
  },
  {
   "cell_type": "code",
   "execution_count": 23,
   "metadata": {},
   "outputs": [],
   "source": [
    "class Trie:\n",
    "\n",
    "    def __init__(self):\n",
    "        \"\"\"\n",
    "        Initialize your data structure here.\n",
    "        \"\"\"\n",
    "        self.Trie = {}\n",
    "\n",
    "\n",
    "    def insert(self, word):\n",
    "        \"\"\"\n",
    "        Inserts a word into the trie.\n",
    "        :type word: str\n",
    "        :rtype: void\n",
    "        \"\"\"\n",
    "        curr = self.Trie\n",
    "        for w in word:\n",
    "            if w not in curr:\n",
    "                curr[w] = {}\n",
    "            curr = curr[w]\n",
    "            print(self.Trie)\n",
    "        curr['#'] = 1\n",
    "    def ptr(self):\n",
    "        print(self.Trie)"
   ]
  },
  {
   "cell_type": "code",
   "execution_count": 24,
   "metadata": {},
   "outputs": [],
   "source": [
    "trie = Trie()"
   ]
  },
  {
   "cell_type": "code",
   "execution_count": 25,
   "metadata": {},
   "outputs": [
    {
     "name": "stdout",
     "output_type": "stream",
     "text": [
      "{'w': {}}\n",
      "{'w': {'o': {}}}\n",
      "{'w': {'o': {'r': {}}}}\n",
      "{'w': {'o': {'r': {'d': {}}}}}\n"
     ]
    }
   ],
   "source": [
    "trie.insert(\"word\")"
   ]
  },
  {
   "cell_type": "code",
   "execution_count": 22,
   "metadata": {},
   "outputs": [
    {
     "data": {
      "text/plain": [
       "<bound method Trie.ptr of <__main__.Trie object at 0x0000018E832E26A0>>"
      ]
     },
     "execution_count": 22,
     "metadata": {},
     "output_type": "execute_result"
    }
   ],
   "source": [
    "trie.ptr"
   ]
  }
 ],
 "metadata": {
  "kernelspec": {
   "display_name": "Python 3",
   "language": "python",
   "name": "python3"
  },
  "language_info": {
   "codemirror_mode": {
    "name": "ipython",
    "version": 3
   },
   "file_extension": ".py",
   "mimetype": "text/x-python",
   "name": "python",
   "nbconvert_exporter": "python",
   "pygments_lexer": "ipython3",
   "version": "3.6.1"
  }
 },
 "nbformat": 4,
 "nbformat_minor": 2
}
