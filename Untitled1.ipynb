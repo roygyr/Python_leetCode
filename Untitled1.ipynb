{
 "cells": [
  {
   "cell_type": "code",
   "execution_count": 32,
   "metadata": {},
   "outputs": [
    {
     "name": "stdout",
     "output_type": "stream",
     "text": [
      "4\n"
     ]
    }
   ],
   "source": [
    "import sys\n",
    "\n",
    "def deliver(a,k):\n",
    "    m = a\n",
    "    count = 0\n",
    "    while(k>=0and m > 2):\n",
    "        if m%2 == 0:\n",
    "            m = m/2\n",
    "        else:\n",
    "            m = m//2 + 1\n",
    "        count += 1\n",
    "        k -=1\n",
    "    count = count + m\n",
    "    return count\n",
    "line = \"5 2\"\n",
    "a = line.split()\n",
    "print(deliver(int(a[0]),int(a[1])))\n",
    "    "
   ]
  },
  {
   "cell_type": "code",
   "execution_count": 35,
   "metadata": {},
   "outputs": [],
   "source": [
    "cosMatrix = [[abs(i-j) for i in range (5)] for j in range(5)]"
   ]
  },
  {
   "cell_type": "code",
   "execution_count": 79,
   "metadata": {},
   "outputs": [],
   "source": [
    "need = [5,-4,1,-3,1,3,2,-4,-1]"
   ]
  },
  {
   "cell_type": "code",
   "execution_count": 80,
   "metadata": {},
   "outputs": [],
   "source": [
    "class TransForm(object):\n",
    "    def __init__(self,n,need):\n",
    "        self.need = need\n",
    "        self.n = n\n",
    "        self.cost = 0\n",
    "        self.cosMatrix = [[abs(i-j) for i in range (self.n)] for j in range(self.n)]\n",
    "    \n",
    "    def DFS(self,r,i,j):\n",
    "        print(r,self.need)\n",
    "        if r == 0:\n",
    "            return self.cost\n",
    "\n",
    "        if self.need[j]*r <0:\n",
    "            if abs(r) <= abs(self.need[j]):\n",
    "                self.cost += abs(r*self.cosMatrix[i][j])\n",
    "                need[j] = r+self.need[j]\n",
    "                r = 0\n",
    "            else:\n",
    "                self.cost += abs(self.need[j]*self.cosMatrix[i][j])\n",
    "                r = r+self.need[j]\n",
    "                self.need[j] = 0\n",
    "        self.need[i] = r\n",
    "        self.DFS(r,i,j+1)\n",
    "        \n",
    "    def getcost(self):\n",
    "        \n",
    "        for i in range(self.n):\n",
    "            if need[i] != 0:\n",
    "                print(\"i等于\",i,self.need,self.need[i])\n",
    "                self.DFS(self.need[i],i,i+1)\n",
    "\n",
    "\n",
    "        return self.cost\n",
    "            \n",
    "            \n",
    "        \n"
   ]
  },
  {
   "cell_type": "code",
   "execution_count": 81,
   "metadata": {},
   "outputs": [],
   "source": [
    "TP = TransForm(len(need),need)"
   ]
  },
  {
   "cell_type": "code",
   "execution_count": 82,
   "metadata": {},
   "outputs": [
    {
     "name": "stdout",
     "output_type": "stream",
     "text": [
      "i等于 0 [5, -4, 1, -3, 1, 3, 2, -4, -1] 5\n",
      "5 [5, -4, 1, -3, 1, 3, 2, -4, -1]\n",
      "1 [1, 0, 1, -3, 1, 3, 2, -4, -1]\n",
      "1 [1, 0, 1, -3, 1, 3, 2, -4, -1]\n",
      "0 [0, 0, 1, -2, 1, 3, 2, -4, -1]\n",
      "i等于 2 [0, 0, 1, -2, 1, 3, 2, -4, -1] 1\n",
      "1 [0, 0, 1, -2, 1, 3, 2, -4, -1]\n",
      "0 [0, 0, 0, -1, 1, 3, 2, -4, -1]\n",
      "i等于 3 [0, 0, 0, -1, 1, 3, 2, -4, -1] -1\n",
      "-1 [0, 0, 0, -1, 1, 3, 2, -4, -1]\n",
      "0 [0, 0, 0, 0, 0, 3, 2, -4, -1]\n",
      "i等于 5 [0, 0, 0, 0, 0, 3, 2, -4, -1] 3\n",
      "3 [0, 0, 0, 0, 0, 3, 2, -4, -1]\n",
      "3 [0, 0, 0, 0, 0, 3, 2, -4, -1]\n",
      "0 [0, 0, 0, 0, 0, 0, 2, -1, -1]\n",
      "i等于 6 [0, 0, 0, 0, 0, 0, 2, -1, -1] 2\n",
      "2 [0, 0, 0, 0, 0, 0, 2, -1, -1]\n",
      "1 [0, 0, 0, 0, 0, 0, 1, 0, -1]\n",
      "0 [0, 0, 0, 0, 0, 0, 0, 0, 0]\n"
     ]
    },
    {
     "data": {
      "text/plain": [
       "18"
      ]
     },
     "execution_count": 82,
     "metadata": {},
     "output_type": "execute_result"
    }
   ],
   "source": [
    "TP.getcost()"
   ]
  },
  {
   "cell_type": "code",
   "execution_count": 37,
   "metadata": {},
   "outputs": [
    {
     "data": {
      "text/plain": [
       "0"
      ]
     },
     "execution_count": 37,
     "metadata": {},
     "output_type": "execute_result"
    }
   ],
   "source": [
    "ans"
   ]
  },
  {
   "cell_type": "code",
   "execution_count": 36,
   "metadata": {},
   "outputs": [
    {
     "name": "stdout",
     "output_type": "stream",
     "text": [
      "0 [5, -4, 1, -3, 1] 0\n",
      "0 [1, 0, 1, -3, 1] 4\n",
      "0 [1, 0, 1, -3, 1] 4\n",
      "2 [0, 0, 1, -2, 1] 7\n",
      "3 [0, 0, 0, -1, 1] 8\n"
     ]
    },
    {
     "data": {
      "text/plain": [
       "9"
      ]
     },
     "execution_count": 36,
     "metadata": {},
     "output_type": "execute_result"
    }
   ],
   "source": [
    "getcost(5,need)"
   ]
  },
  {
   "cell_type": "code",
   "execution_count": 39,
   "metadata": {},
   "outputs": [],
   "source": [
    "ls = [5,5,7,2]\n",
    "k = 2"
   ]
  },
  {
   "cell_type": "code",
   "execution_count": 41,
   "metadata": {},
   "outputs": [],
   "source": [
    "temp = ls\n",
    "while(k>0 or sum(temp) == 0):\n",
    "    if 0 in temp:\n",
    "        temp.remove(0)\n",
    "    mm = min(temp)\n",
    "    print(mm)\n",
    "    temp = [i - mm for i in temp]\n",
    "    k -= 1\n",
    "if sum(temp) == 0:\n",
    "    print(0)\n",
    "\n"
   ]
  },
  {
   "cell_type": "code",
   "execution_count": 38,
   "metadata": {},
   "outputs": [],
   "source": [
    "ls = [5,5,7,0]"
   ]
  },
  {
   "cell_type": "code",
   "execution_count": 95,
   "metadata": {},
   "outputs": [],
   "source": [
    "ls.remove(0)"
   ]
  },
  {
   "cell_type": "code",
   "execution_count": 96,
   "metadata": {},
   "outputs": [
    {
     "data": {
      "text/plain": [
       "[5, 5, 7]"
      ]
     },
     "execution_count": 96,
     "metadata": {},
     "output_type": "execute_result"
    }
   ],
   "source": [
    "ls"
   ]
  }
 ],
 "metadata": {
  "kernelspec": {
   "display_name": "Python 3",
   "language": "python",
   "name": "python3"
  },
  "language_info": {
   "codemirror_mode": {
    "name": "ipython",
    "version": 3
   },
   "file_extension": ".py",
   "mimetype": "text/x-python",
   "name": "python",
   "nbconvert_exporter": "python",
   "pygments_lexer": "ipython3",
   "version": "3.6.1"
  }
 },
 "nbformat": 4,
 "nbformat_minor": 2
}
