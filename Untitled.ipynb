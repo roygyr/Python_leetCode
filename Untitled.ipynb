{
 "cells": [
  {
   "cell_type": "code",
   "execution_count": 5,
   "metadata": {},
   "outputs": [
    {
     "name": "stdin",
     "output_type": "stream",
     "text": [
      " asaa\n"
     ]
    },
    {
     "name": "stdout",
     "output_type": "stream",
     "text": [
      "saaa\n",
      "['saaa']\n",
      "aaas\n",
      "['saaa', 'aaas']\n",
      "aasa\n",
      "['saaa', 'aaas', 'aasa']\n",
      "asaa\n",
      "['saaa', 'aaas', 'aasa', 'asaa']\n"
     ]
    },
    {
     "ename": "AttributeError",
     "evalue": "'int' object has no attribute 'decode'",
     "output_type": "error",
     "traceback": [
      "\u001b[1;31m---------------------------------------------------------------------------\u001b[0m",
      "\u001b[1;31mAttributeError\u001b[0m                            Traceback (most recent call last)",
      "\u001b[1;32m<ipython-input-5-30d0c3bbe452>\u001b[0m in \u001b[0;36m<module>\u001b[1;34m()\u001b[0m\n\u001b[0;32m     13\u001b[0m     \u001b[0mprint\u001b[0m\u001b[1;33m(\u001b[0m\u001b[0mre\u001b[0m\u001b[1;33m)\u001b[0m\u001b[1;33m\u001b[0m\u001b[0m\n\u001b[0;32m     14\u001b[0m \u001b[0mans\u001b[0m \u001b[1;33m=\u001b[0m \u001b[0mlen\u001b[0m\u001b[1;33m(\u001b[0m\u001b[0mre\u001b[0m\u001b[1;33m)\u001b[0m\u001b[1;33m\u001b[0m\u001b[0m\n\u001b[1;32m---> 15\u001b[1;33m \u001b[0msys\u001b[0m\u001b[1;33m.\u001b[0m\u001b[0mstdout\u001b[0m\u001b[1;33m.\u001b[0m\u001b[0mwrite\u001b[0m\u001b[1;33m(\u001b[0m\u001b[0mans\u001b[0m\u001b[1;33m)\u001b[0m\u001b[1;33m\u001b[0m\u001b[0m\n\u001b[0m",
      "\u001b[1;32mc:\\users\\hp\\appdata\\local\\programs\\python\\python36\\lib\\site-packages\\ipykernel\\iostream.py\u001b[0m in \u001b[0;36mwrite\u001b[1;34m(self, string)\u001b[0m\n\u001b[0;32m    346\u001b[0m             \u001b[1;31m# Make sure that we're handling unicode\u001b[0m\u001b[1;33m\u001b[0m\u001b[1;33m\u001b[0m\u001b[0m\n\u001b[0;32m    347\u001b[0m             \u001b[1;32mif\u001b[0m \u001b[1;32mnot\u001b[0m \u001b[0misinstance\u001b[0m\u001b[1;33m(\u001b[0m\u001b[0mstring\u001b[0m\u001b[1;33m,\u001b[0m \u001b[0municode_type\u001b[0m\u001b[1;33m)\u001b[0m\u001b[1;33m:\u001b[0m\u001b[1;33m\u001b[0m\u001b[0m\n\u001b[1;32m--> 348\u001b[1;33m                 \u001b[0mstring\u001b[0m \u001b[1;33m=\u001b[0m \u001b[0mstring\u001b[0m\u001b[1;33m.\u001b[0m\u001b[0mdecode\u001b[0m\u001b[1;33m(\u001b[0m\u001b[0mself\u001b[0m\u001b[1;33m.\u001b[0m\u001b[0mencoding\u001b[0m\u001b[1;33m,\u001b[0m \u001b[1;34m'replace'\u001b[0m\u001b[1;33m)\u001b[0m\u001b[1;33m\u001b[0m\u001b[0m\n\u001b[0m\u001b[0;32m    349\u001b[0m \u001b[1;33m\u001b[0m\u001b[0m\n\u001b[0;32m    350\u001b[0m             \u001b[0mis_child\u001b[0m \u001b[1;33m=\u001b[0m \u001b[1;33m(\u001b[0m\u001b[1;32mnot\u001b[0m \u001b[0mself\u001b[0m\u001b[1;33m.\u001b[0m\u001b[0m_is_master_process\u001b[0m\u001b[1;33m(\u001b[0m\u001b[1;33m)\u001b[0m\u001b[1;33m)\u001b[0m\u001b[1;33m\u001b[0m\u001b[0m\n",
      "\u001b[1;31mAttributeError\u001b[0m: 'int' object has no attribute 'decode'"
     ]
    }
   ],
   "source": [
    "import sys\n",
    "st = input()\n",
    "l = len(st)\n",
    "i=0\n",
    "re = []\n",
    "temp = st\n",
    "while(i<l):\n",
    "    temp = temp[1:]+temp[0]\n",
    "    print(temp)\n",
    "    if temp not in re:\n",
    "        re.append(temp)\n",
    "    i+=1\n",
    "    print(re)\n",
    "ans = len(re)\n",
    "print(ans)"
   ]
  },
  {
   "cell_type": "code",
   "execution_count": 3,
   "metadata": {},
   "outputs": [
    {
     "name": "stdout",
     "output_type": "stream",
     "text": [
      "[3, 5, 6, 4]\n"
     ]
    }
   ],
   "source": [
    "n = 5\n",
    "a = [1,2,1,4,5]\n",
    "re = [0]*(n-1)\n",
    "for i in range(n):\n",
    "    count = 0 \n",
    "    for j in range(i):\n",
    "        if a[i] != a[j]:\n",
    "             count+= 1\n",
    "        re[j] = re[j] + count\n",
    "            \n",
    "print(re)"
   ]
  },
  {
   "cell_type": "code",
   "execution_count": 6,
   "metadata": {},
   "outputs": [],
   "source": [
    "import pandas as pd\n",
    "v = [3,1]\n",
    "d = pd.DataFrame(v)"
   ]
  },
  {
   "cell_type": "code",
   "execution_count": 8,
   "metadata": {},
   "outputs": [
    {
     "data": {
      "text/html": [
       "<div>\n",
       "<table border=\"1\" class=\"dataframe\">\n",
       "  <thead>\n",
       "    <tr style=\"text-align: right;\">\n",
       "      <th></th>\n",
       "      <th>0</th>\n",
       "    </tr>\n",
       "  </thead>\n",
       "  <tbody>\n",
       "    <tr>\n",
       "      <th>0</th>\n",
       "      <td>3.0</td>\n",
       "    </tr>\n",
       "    <tr>\n",
       "      <th>1</th>\n",
       "      <td>NaN</td>\n",
       "    </tr>\n",
       "  </tbody>\n",
       "</table>\n",
       "</div>"
      ],
      "text/plain": [
       "     0\n",
       "0  3.0\n",
       "1  NaN"
      ]
     },
     "execution_count": 8,
     "metadata": {},
     "output_type": "execute_result"
    }
   ],
   "source": [
    "d.replace(1,float('nan'))"
   ]
  },
  {
   "cell_type": "code",
   "execution_count": 13,
   "metadata": {},
   "outputs": [
    {
     "data": {
      "text/plain": [
       "[1, 0, 0]"
      ]
     },
     "execution_count": 13,
     "metadata": {},
     "output_type": "execute_result"
    }
   ],
   "source": [
    "re"
   ]
  },
  {
   "cell_type": "code",
   "execution_count": 4,
   "metadata": {},
   "outputs": [],
   "source": [
    "n = 5\n",
    "a = [1,2,3,4,1]\n",
    "d = {}\n",
    "re = []\n",
    "for i in range(n):\n",
    "    d[a[i]] = d.get(a[i],0)+1"
   ]
  },
  {
   "cell_type": "code",
   "execution_count": 9,
   "metadata": {},
   "outputs": [
    {
     "data": {
      "text/plain": [
       "{1: 2, 2: 1, 3: 1, 4: 1}"
      ]
     },
     "execution_count": 9,
     "metadata": {},
     "output_type": "execute_result"
    }
   ],
   "source": []
  },
  {
   "cell_type": "code",
   "execution_count": 8,
   "metadata": {},
   "outputs": [
    {
     "data": {
      "text/plain": [
       "[1, 1, 1]"
      ]
     },
     "execution_count": 8,
     "metadata": {},
     "output_type": "execute_result"
    }
   ],
   "source": [
    "[v for k,v in d.items() if k != 1 ]\n"
   ]
  },
  {
   "cell_type": "code",
   "execution_count": 7,
   "metadata": {},
   "outputs": [
    {
     "ename": "SyntaxError",
     "evalue": "invalid syntax (<ipython-input-7-93e5ccdd2882>, line 1)",
     "output_type": "error",
     "traceback": [
      "\u001b[1;36m  File \u001b[1;32m\"<ipython-input-7-93e5ccdd2882>\"\u001b[1;36m, line \u001b[1;32m1\u001b[0m\n\u001b[1;33m    百度 2019春季实习生 机器学习/数据挖掘/自然语言处理工程师在线考试\u001b[0m\n\u001b[1;37m          ^\u001b[0m\n\u001b[1;31mSyntaxError\u001b[0m\u001b[1;31m:\u001b[0m invalid syntax\n"
     ]
    }
   ],
   "source": [
    "百度 2019春季实习生 机器学习/数据挖掘/自然语言处理工程师在线考试\n",
    "编程题 | 20.0分2/2\n",
    "寻寻觅觅\n",
    "时间限制：C/C++语言 1000MS；其他语言 3000MS\n",
    "内存限制：C/C++语言 65536KB；其他语言 589824KB\n",
    "题目描述：\n",
    "姆巴特是一名现役特种兵，他马上就要去参加特种兵大赛。\n",
    "特种兵大赛不仅对体能体格有很高的要求，还需要选手具备超强的智力和反应力。\n",
    "为了训练姆巴特的反应力和临场动脑能力，教练写了一串很长的文字A，还写了一串文字B，\n",
    "训练总共Q次，每次教练会告诉姆巴特两个数字l和r，\n",
    "姆巴特需要快速找出B在A[l..r]中出现了几次，A[l..r]表示从A的A[l]开始长度为r-l+1的子串。\n",
    "\n",
    "输入\n",
    "第一行一个字符串A。\n",
    "\n",
    "第二行一个字符串B。两个字符串保证均只含小写字母。（1≤|A|≤500000, 1≤|B|≤100）\n",
    "\n",
    "第三行一个正整数Q，表示训练次数。（1≤Q≤100000）\n",
    "\n",
    "接下来m行每行两个整数l和r，表示一段区间。（1≤l≤r≤|A|）\n",
    "\n",
    "输出\n",
    "共Q行，每行一个非负整数，表示出现的次数。\n",
    "\n",
    "\n",
    "样例输入\n",
    "comeonmandontconconnect\n",
    "on\n",
    "5\n",
    "1 5\n",
    "1 6\n",
    "1 23\n",
    "11 16\n",
    "11 23\n",
    "样例输出\n",
    "0\n",
    "1\n",
    "4\n",
    "2\n",
    "3"
   ]
  },
  {
   "cell_type": "code",
   "execution_count": null,
   "metadata": {},
   "outputs": [],
   "source": []
  }
 ],
 "metadata": {
  "kernelspec": {
   "display_name": "Python 3",
   "language": "python",
   "name": "python3"
  },
  "language_info": {
   "codemirror_mode": {
    "name": "ipython",
    "version": 3
   },
   "file_extension": ".py",
   "mimetype": "text/x-python",
   "name": "python",
   "nbconvert_exporter": "python",
   "pygments_lexer": "ipython3",
   "version": "3.6.1"
  }
 },
 "nbformat": 4,
 "nbformat_minor": 2
}
